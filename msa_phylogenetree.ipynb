{
  "cells": [
    {
      "cell_type": "code",
      "execution_count": 28,
      "metadata": {
        "id": "d_yGvLz6k2Gt"
      },
      "outputs": [],
      "source": [
        "#!pip install biopython"
      ]
    },
    {
      "cell_type": "code",
      "execution_count": 29,
      "metadata": {
        "id": "3oJmb4I9kZId"
      },
      "outputs": [],
      "source": [
        "from google.colab import files"
      ]
    },
    {
      "cell_type": "code",
      "execution_count": null,
      "metadata": {
        "colab": {
          "base_uri": "https://localhost:8080/",
          "height": 73
        },
        "id": "mXMFAI6ZkOfu",
        "outputId": "537211ae-28ad-4e57-b087-165c607ac3a5"
      },
      "outputs": [],
      "source": [
        "files = files.upload()"
      ]
    },
    {
      "cell_type": "code",
      "execution_count": 5,
      "metadata": {
        "id": "GNDMMGZkkzSN"
      },
      "outputs": [],
      "source": [
        "import requests\n",
        "import time"
      ]
    },
    {
      "cell_type": "code",
      "execution_count": 1,
      "metadata": {
        "id": "4MnKmopLlPBK"
      },
      "outputs": [],
      "source": [
        "# Open your FASTA file\n",
        "with open(\"cytochrome_c.fasta\", \"r\") as file:\n",
        "    fasta_data = file.read()"
      ]
    },
    {
      "cell_type": "code",
      "execution_count": 2,
      "metadata": {
        "id": "bdp4FdCwlV3V"
      },
      "outputs": [],
      "source": [
        "\n",
        "# Submit job to Clustal Omega (EBI API)\n",
        "\n",
        "params = {\n",
        "    'sequence': fasta_data,\n",
        "    'email': 'simmymacbookair@gmail.com',\n",
        "    'stype':'protein',\n",
        "    'outfmt':'clustal_num'\n",
        "}"
      ]
    },
    {
      "cell_type": "code",
      "execution_count": 3,
      "metadata": {
        "id": "aiuPb5kWmIgr"
      },
      "outputs": [],
      "source": [
        "url = 'https://www.ebi.ac.uk/Tools/services/rest/clustalo/run'"
      ]
    },
    {
      "cell_type": "code",
      "execution_count": 6,
      "metadata": {
        "id": "nPevA7S6mIeg"
      },
      "outputs": [],
      "source": [
        "response = requests.post(url, data=params)"
      ]
    },
    {
      "cell_type": "code",
      "execution_count": 7,
      "metadata": {
        "colab": {
          "base_uri": "https://localhost:8080/"
        },
        "id": "8KMizS1Vmjsq",
        "outputId": "89bb5ea8-60aa-458f-a97b-a3cd0d4d28a8"
      },
      "outputs": [
        {
          "name": "stdout",
          "output_type": "stream",
          "text": [
            "Job ID: clustalo-R20250721-162952-0478-47398886-p1m\n"
          ]
        }
      ],
      "source": [
        "job_id = response.text\n",
        "print('Job ID:',job_id)"
      ]
    },
    {
      "cell_type": "code",
      "execution_count": 8,
      "metadata": {
        "id": "1FX-l9xymxAL"
      },
      "outputs": [],
      "source": [
        "# Check status\n",
        "status_url = f'https://www.ebi.ac.uk/Tools/services/rest/clustalo/status/{job_id}'\n",
        "result_url = f'https://www.ebi.ac.uk/Tools/services/rest/clustalo/result/{job_id}/aln-clustal_num'"
      ]
    },
    {
      "cell_type": "code",
      "execution_count": 9,
      "metadata": {
        "colab": {
          "base_uri": "https://localhost:8080/"
        },
        "id": "8sf-KvZkm2ky",
        "outputId": "4f77879d-77da-46a6-b9d6-2cdfa7ac31d4"
      },
      "outputs": [
        {
          "name": "stdout",
          "output_type": "stream",
          "text": [
            "Job Status: FINISHED\n"
          ]
        }
      ],
      "source": [
        "# Wait for the job to finish\n",
        "\n",
        "while True:\n",
        "    status = requests.get(status_url).text\n",
        "    print(\"Job Status:\", status)\n",
        "    if status == 'FINISHED':\n",
        "        break\n",
        "    time.sleep(5)"
      ]
    },
    {
      "cell_type": "code",
      "execution_count": 10,
      "metadata": {
        "id": "KEzSTIKKm9oK"
      },
      "outputs": [],
      "source": [
        "# Get results\n",
        "result = requests.get(result_url)\n",
        "alignment_result = result.text"
      ]
    },
    {
      "cell_type": "code",
      "execution_count": 11,
      "metadata": {
        "id": "6Gs7Cm98nAZn"
      },
      "outputs": [],
      "source": [
        "# Save alignment to file\n",
        "with open(\"alignment_named.aln\", \"w\") as out_file:\n",
        "    out_file.write(alignment_result)"
      ]
    },
    {
      "cell_type": "code",
      "execution_count": 12,
      "metadata": {
        "colab": {
          "base_uri": "https://localhost:8080/"
        },
        "id": "lE6Y6B20nHma",
        "outputId": "a826a7d1-bffb-44dd-ad54-bad421742910"
      },
      "outputs": [
        {
          "name": "stdout",
          "output_type": "stream",
          "text": [
            "Alignment completed and saved as 'alignment_named.aln'\n"
          ]
        }
      ],
      "source": [
        "print(\"Alignment completed and saved as 'alignment_named.aln'\")"
      ]
    },
    {
      "cell_type": "code",
      "execution_count": 13,
      "metadata": {
        "colab": {
          "base_uri": "https://localhost:8080/"
        },
        "id": "OQtJFFv3nKb4",
        "outputId": "6579a25c-06e0-46ee-faa7-c601aa19a06f"
      },
      "outputs": [
        {
          "name": "stdout",
          "output_type": "stream",
          "text": [
            "Alignment with 5 rows and 367 columns\n",
            "--------------------------------------------...--- [Drosophila_melanogaster],\n",
            "--------------------------------------------...--- [Homo_sapiens]\n",
            "MRGKKRIGLLFLLIAVVVGGGGLLLAQKALHKTSDTAFCLSCHS...EKQ [Escherichia_coli]\n",
            "--------------------------------------------...--- [Mus_musculus]\n",
            "--------------------------------------------...--- [Equus_caballus]\n"
          ]
        }
      ],
      "source": [
        "from Bio import AlignIO\n",
        "\n",
        "alignment = AlignIO.read(\"alignment_named.aln\", \"clustal\")\n",
        "print(alignment)"
      ]
    },
    {
      "cell_type": "code",
      "execution_count": 14,
      "metadata": {
        "colab": {
          "base_uri": "https://localhost:8080/"
        },
        "id": "zeapjPrAnNuZ",
        "outputId": "71c4f4b1-f9e1-4957-f6a2-ee7254d95008"
      },
      "outputs": [
        {
          "name": "stdout",
          "output_type": "stream",
          "text": [
            "[Drosophila_melanogaster],\n",
            "--------------------------------------------MGVPAGDVE-----KGKKLFVQRCAQCHTVEAGGKHKVG------PNLHGLIGRKTGQAAGFAYTDANKAKGITWNEDTLF--------------------------------------EY------------------------------------------LENPKKYIPGTKMIFAGLKKPNERGDLIAYLKSATK----------------------------------------------------------------------------------------------------------------------------\n",
            "[Homo_sapiens]\n",
            "------------------------------------------------MGDVE-----KGKKIFIMKCSQCHTVEKGGKHKTG------PNLHGLFGRKTGQAPGYSYTAANKNKGIIWGEDTLM--------------------------------------EY------------------------------------------LENPKKYIPGTKMIFVGIKKKEERADLIAYLKKATNE---------------------------------------------------------------------------------------------------------------------------\n",
            "[Escherichia_coli]\n",
            "MRGKKRIGLLFLLIAVVVGGGGLLLAQKALHKTSDTAFCLSCHSMSKPFEEYQGTVHFSNQKGIRAECADCHIPKSGMDYLFAKLKASKDIYHEFVSGKIDSDDKFEAH-RQEMAETVWKELKATDSATCRSCHSFDAMDIASQSESAQKMHNKAQKDGETCIDCHKGIAHFPPEIKMDDNAAHELESQAATSVTNGAHIYPFKTSRIGELATVTPGTDLTVVDASGKQPIVRLQGYQMQGSENTLYLAAGQRLALATLSEEGIKALTVNGEWQADEYGNQWRQASLQGALIDPALADRKPLWQYAEKLDGTYCAGCHAPIAADHYTVNTWPSIAKGMGARTSMSENELDILTRYFQYNAKDITEKQ\n",
            "[Mus_musculus]\n",
            "------------------------------------------------MGDVE-----KGKKIFVQKCAQCHTVEKGGKHKTG------PNLHGLFGRKTGQAAGFSYTDANKNKGITWGEDTLM--------------------------------------EY------------------------------------------LENPKKYIPGTKMIFAGIKKKGERADLIAYLKKATNE---------------------------------------------------------------------------------------------------------------------------\n",
            "[Equus_caballus]\n",
            "------------------------------------------------MGDVE-----KGKKIFVQKCAQCHTVEKGGKHKTG------PNLHGLFGRKTGQAPGFTYTDANKNKGITWKEETLM--------------------------------------EY------------------------------------------LENPKKYIPGTKMIFAGIKKKTEREDLIAYLKKATNE---------------------------------------------------------------------------------------------------------------------------\n"
          ]
        }
      ],
      "source": [
        "# Print each sequence in the alignment\n",
        "for record in alignment:\n",
        "    print(record.id)\n",
        "    print(record.seq)"
      ]
    },
    {
      "cell_type": "code",
      "execution_count": 15,
      "metadata": {
        "colab": {
          "base_uri": "https://localhost:8080/"
        },
        "id": "d4RUF0LsnXNU",
        "outputId": "fd92d5a9-86d1-489d-e2b5-5b55020215b1"
      },
      "outputs": [
        {
          "name": "stdout",
          "output_type": "stream",
          "text": [
            "[Drosophila_melanogaster],  0.000000\n",
            "[Homo_sapiens]  0.203571    0.000000\n",
            "[Escherichia_coli]  0.924825    0.925134    0.000000\n",
            "[Mus_musculus]  0.141071    0.076106    0.935599    0.000000\n",
            "[Equus_caballus]    0.165480    0.098765    0.923351    0.061728    0.000000\n",
            "    [Drosophila_melanogaster],  [Homo_sapiens]  [Escherichia_coli]  [Mus_musculus]  [Equus_caballus]\n"
          ]
        }
      ],
      "source": [
        "from Bio.Phylo.TreeConstruction import DistanceCalculator, DistanceTreeConstructor\n",
        "from Bio import Phylo\n",
        "\n",
        "# Calculate distance matrix\n",
        "calculator = DistanceCalculator('blosum62')\n",
        "dm = calculator.get_distance(alignment)\n",
        "\n",
        "print(dm)\n"
      ]
    },
    {
      "cell_type": "code",
      "execution_count": 16,
      "metadata": {},
      "outputs": [],
      "source": [
        "# Construct tree\n",
        "constructor = DistanceTreeConstructor()\n",
        "tree = constructor.nj(dm)"
      ]
    },
    {
      "cell_type": "code",
      "execution_count": 17,
      "metadata": {
        "colab": {
          "base_uri": "https://localhost:8080/",
          "height": 570
        },
        "id": "613HfS67n36y",
        "outputId": "4c9f5e17-5e20-4c0d-cc33-ef080bba202a"
      },
      "outputs": [
        {
          "data": {
            "image/png": "[encoded data removed]",
            "text/plain": [
              "<Figure size 800x600 with 1 Axes>"
            ]
          },
          "metadata": {},
          "output_type": "display_data"
        }
      ],
      "source": [
        "import matplotlib.pyplot as plt\n",
        "from Bio import Phylo\n",
        "\n",
        "# Customize the plot\n",
        "fig = plt.figure(figsize=(8,6), dpi=100)\n",
        "ax = fig.add_subplot(1, 1, 1)\n",
        "\n",
        "# Draw the tree with better aesthetics\n",
        "Phylo.draw(tree, do_show=False, axes=ax)\n",
        "\n",
        "# Remove 'Inner' labels\n",
        "for clade in tree.find_clades():\n",
        "    if clade.name and \"Inner\" in clade.name:\n",
        "        clade.name = \"\"\n",
        "\n",
        "# Redraw without 'Inner' nodes\n",
        "ax.clear()\n",
        "Phylo.draw(tree, do_show=False, axes=ax)\n",
        "\n",
        "# Customize\n",
        "ax.set_title(\"Cytochrome C Phylogenetic Tree\", fontsize=16, fontweight='bold')\n",
        "ax.set_xlabel(\"Evolutionary Distance\", fontsize=12)\n",
        "ax.set_ylabel(\"Species\", fontsize=12)\n",
        "\n",
        "plt.show()"
      ]
    },
    {
      "cell_type": "markdown",
      "metadata": {
        "id": "Sfoe4Kftb4Ze"
      },
      "source": [
        "Distance Matrix\n",
        "\n",
        "A distance matrix shows the pairwise evolutionary distances between sequences, calculated from your Multiple Sequence Alignment (MSA).\n",
        "\n",
        "\t•\tEach number = evolutionary “distance” between two species.\n",
        "\n",
        "\t•\tSmaller values = more similar sequences (closer relatives).\n",
        "  \n",
        "\t•\tLarger values = more divergent sequences (distant relatives)."
      ]
    },
    {
      "cell_type": "markdown",
      "metadata": {
        "id": "y97b07Uddxux"
      },
      "source": [
        "\n",
        "| **Species**        | **Drosophila** | **Homo sapiens** | **E. coli** | **Mus musculus** | **Equus caballus** |  \n",
        "|--------------------|----------------|------------------|-------------|------------------|--------------------|  \n",
        "| **Drosophila**     | 0.000000       | 0.203571         | 0.924825    | 0.141071         | 0.165480           |  \n",
        "| **Homo sapiens**   | 0.203571       | 0.000000         | 0.925134    | 0.076106         | 0.098765           |  \n",
        "| **E. coli**        | 0.924825       | 0.925134         | 0.000000    | 0.935599         | 0.923351           |  \n",
        "| **Mus musculus**   | 0.141071       | 0.076106         | 0.935599    | 0.000000         | 0.061728           |  \n",
        "| **Equus caballus** | 0.165480       | 0.098765         | 0.923351    | 0.061728         | 0.000000           |  \n"
      ]
    },
    {
      "cell_type": "markdown",
      "metadata": {
        "id": "Z7jY_ogrcpWR"
      },
      "source": [
        "Interpretation:\n",
        "\n",
        "\t•\tHuman ↔ Mouse: 0.076106 → Very close (as expected, both are mammals)\n",
        "\n",
        "\t•\tHuman ↔ Drosophila: 0.203571 → Moderate distance (both are eukaryotes, but distant relatives)\n",
        "\n",
        "\t•\tE. coli ↔ All others: ~0.92-0.93 → Very far apart (prokaryote vs eukaryotes)\n",
        "\n",
        "\t•\tHorse ↔ Mouse: 0.061728 → Very close (both are mammals)"
      ]
    }
  ],
  "metadata": {
    "colab": {
      "provenance": []
    },
    "kernelspec": {
      "display_name": "base",
      "language": "python",
      "name": "python3"
    },
    "language_info": {
      "codemirror_mode": {
        "name": "ipython",
        "version": 3
      },
      "file_extension": ".py",
      "mimetype": "text/x-python",
      "name": "python",
      "nbconvert_exporter": "python",
      "pygments_lexer": "ipython3",
      "version": "3.12.7"
    }
  },
  "nbformat": 4,
  "nbformat_minor": 0
}
